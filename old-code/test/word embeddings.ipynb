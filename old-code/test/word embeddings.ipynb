{
 "cells": [
  {
   "cell_type": "markdown",
   "metadata": {},
   "source": [
    "## Word Embeddings"
   ]
  },
  {
   "cell_type": "code",
   "execution_count": 2,
   "metadata": {},
   "outputs": [],
   "source": [
    "import numpy as np\n",
    "from scipy import spatial\n",
    "from collections import Counter\n",
    "\n",
    "PATH = \"/home/sukhad/Workspace/Machine_learning/Embeddings/GloVe/glove.6B.100d.txt\""
   ]
  },
  {
   "cell_type": "markdown",
   "metadata": {},
   "source": [
    "A word embedding is a learned representation for text where words that have the same meaning have a similar representation. We are using pretrained GloVe word embeddings. So for every word it returns a 100-dimensional vector."
   ]
  },
  {
   "cell_type": "code",
   "execution_count": 3,
   "metadata": {},
   "outputs": [],
   "source": [
    "embeddings_dict = dict()\n",
    "with open(PATH,'r') as f:\n",
    "    for line in f:\n",
    "        values = line.split()\n",
    "        word = values[0]\n",
    "        vector = np.asarray(values[1:], \"float32\")\n",
    "        embeddings_dict[word] = vector"
   ]
  },
  {
   "cell_type": "code",
   "execution_count": 12,
   "metadata": {},
   "outputs": [
    {
     "name": "stdout",
     "output_type": "stream",
     "text": [
      "[ 0.89461   0.37758   0.42067  -0.51334  -0.28298   1.0012    0.18748\n",
      "  0.21868  -0.030053  0.086727 -0.44626   0.34755   0.61516   0.31583\n",
      "  0.56543   0.40314   0.45648  -0.39995  -0.20669   0.84975  -0.016242\n",
      " -0.28152  -0.052972 -0.19438   0.35783   0.89044  -0.92628  -0.88332\n",
      "  0.089802  1.3856    0.11884   0.36608   0.44009   0.51617   0.35074\n",
      " -0.24373  -0.68049   0.13276   0.78618  -0.5253   -0.28546   0.30342\n",
      "  0.23909  -0.65424  -0.15926   0.20786  -0.69262   0.25893   0.65051\n",
      " -0.091278 -0.36572  -0.20873   0.18074   1.156    -0.01657  -1.9547\n",
      " -0.6729    0.029884  0.93844   0.74598   0.80694   1.0129   -0.51853\n",
      " -0.21152   0.35337   0.047413  0.75148   0.31402  -0.42139   0.29954\n",
      "  0.32677   0.12179  -0.19638   0.12719   0.041816  1.05      0.17703\n",
      "  0.08307  -0.51415  -0.6523    0.17147   0.37803   0.1107   -0.25518\n",
      " -1.0712   -0.51485  -0.38163  -0.42314   0.13503   0.014892  0.11282\n",
      "  0.26315   0.20852  -0.016587 -0.40463  -0.15909  -0.71309  -0.13668\n",
      "  0.04035  -0.84151 ]\n"
     ]
    }
   ],
   "source": [
    "# Representation of say, \"boy\"\n",
    "print(embeddings_dict[\"boy\"])\n",
    "\n",
    "# This doesn't make any sense"
   ]
  },
  {
   "cell_type": "markdown",
   "metadata": {},
   "source": [
    "### Similar Words have similar representation\n",
    "For example, clothing and fashion are similar than clothing and phone"
   ]
  },
  {
   "cell_type": "code",
   "execution_count": 9,
   "metadata": {},
   "outputs": [
    {
     "name": "stdout",
     "output_type": "stream",
     "text": [
      "0.6570013761520386\n",
      "0.31514737010002136\n"
     ]
    }
   ],
   "source": [
    "print(1 - spatial.distance.cosine(embeddings_dict[\"clothing\"], embeddings_dict[\"fashion\"]))\n",
    "print(1 - spatial.distance.cosine(embeddings_dict[\"clothing\"], embeddings_dict[\"phone\"]))"
   ]
  },
  {
   "cell_type": "markdown",
   "metadata": {},
   "source": [
    "<b>For our use, we are comparing every keyword, we parsed from search results with name of the node </b>\n",
    "In case of bigrams, trigrams, etc. we compare keyword with every unigram present in the name ([clothings, accessories] in \"clothings & accessories\")"
   ]
  },
  {
   "cell_type": "code",
   "execution_count": 10,
   "metadata": {},
   "outputs": [],
   "source": [
    "keywords = {'frequency', 'directory', 'accessories', 'fashion', 'choker', 'knieriem', 'addition', 'world', 'akanksharedhu', 'islands', 'devanshi', 'comment', 'view', 'dress', 'suit', 's', 'business', 'day', 'shipping', 'zivar', 'street', 'sites', 'happiness', 'tai', 'dresses', 'makeup', 'advisor', 'christina', 'pannone', 'piece', 'collection', 'gabbana', 'style', 'media', 'reply', 'influence', 'girl', 'authority', 'art', 'post', 'scarf', 'money', 'youtube', 'sense', 'hood', 'diamond', 'hardik', 'men', 'wpbeginner', 'mahadev', 'stuff', 'necklace', 'tips', 'theme', 'site', 'states', 'wear', 'min', 'outfit', 'shop', 'pm', 'trends', 'advertising', 'news', 'com', 'wikipedia', 'fusion', 'footwear', 'valentine', 'articles', 'logo', 'jewellery', 'jeans', 'comments', 'metals', 'december', 'wardrobe', 'credits', 'handbags', 'ways', 'life', 'hat', 'marketing', 'quality', 'brands', 'year', 'women', 'jewelry', 'clothes', 'bloggers', 'email', 'influencer', 'travel', 'food', 'blog', 'photo', 'co', 'outfits', 'pieces', 'courtesy', 'rings', 'lifestyle', 'tee', 'shoe', 'manufacturer', 'followers', 'beginner', 'maternity', 'leuba', 'website', 'page', 'string', 'beauty', 'community', 'traffic', 'shades', 'besasee', 'inquiries', 'look', 'voylla', 'domain', 'contact', 'products', 'industry', 'thanks', 'credit', 'man', 'bar', 'statement', 'lockdown', 'designers', 'boutique', 'earrings', 'content', 'october', 't', 'luxury', 'july', 'instagram', 'tags', 'monitoring', 'advice', 'bhaavika', 'people', 'clothing', 'posts', 'influencers', 'stories', 'trend', 'home', 'gloves', 'health', 'views', 'shopping', 'necklaces', 'brand', 'sunnies', 'york', 'summer', 'blogger', 'frock', 'sasee', 'details', 'step', 'hoops', 'designs', 'profile', 'design', 'accessory', 'bluehost', 'hair', 'favre', 'events', 'sun', 'delhi', 'size', 'account', 'blogs', 'gentleman', 'shoes'}\n",
    "name = \"clothings & accessories\"\n",
    "name_list = name.split(\" & \")"
   ]
  },
  {
   "cell_type": "code",
   "execution_count": 11,
   "metadata": {},
   "outputs": [
    {
     "data": {
      "text/plain": [
       "[('accessories', 1.0),\n",
       " ('clothing', 0.7651895880699158),\n",
       " ('jewelry', 0.7328066229820251),\n",
       " ('handbags', 0.7084283828735352),\n",
       " ('footwear', 0.7053003907203674),\n",
       " ('clothes', 0.6789366602897644),\n",
       " ('shoes', 0.6592445373535156),\n",
       " ('jewellery', 0.6519425511360168),\n",
       " ('products', 0.6193220019340515),\n",
       " ('accessory', 0.6174675822257996),\n",
       " ('designs', 0.6094177961349487),\n",
       " ('shoe', 0.5983057618141174),\n",
       " ('fashion', 0.5769087672233582),\n",
       " ('designers', 0.5686101317405701),\n",
       " ('wardrobe', 0.5628618597984314),\n",
       " ('brands', 0.5527617335319519),\n",
       " ('outfits', 0.5522340536117554),\n",
       " ('manufacturer', 0.5275525450706482),\n",
       " ('brand', 0.5219516754150391),\n",
       " ('luxury', 0.5181752443313599)]"
      ]
     },
     "execution_count": 11,
     "metadata": {},
     "output_type": "execute_result"
    }
   ],
   "source": [
    "_shit = {}\n",
    "for key in keywords:\n",
    "    score = []\n",
    "    for name in name_list:\n",
    "        try:\n",
    "            score1 = (1 - spatial.distance.cosine(embeddings_dict[name], embeddings_dict[key]))\n",
    "            score.append(score1)\n",
    "        except:\n",
    "            continue\n",
    "    if not len(score)==0:\n",
    "        _shit[key] = max(score)\n",
    "Counter(_shit).most_common(20)"
   ]
  },
  {
   "cell_type": "code",
   "execution_count": null,
   "metadata": {},
   "outputs": [],
   "source": []
  },
  {
   "cell_type": "code",
   "execution_count": null,
   "metadata": {},
   "outputs": [],
   "source": []
  },
  {
   "cell_type": "code",
   "execution_count": null,
   "metadata": {},
   "outputs": [],
   "source": []
  },
  {
   "cell_type": "code",
   "execution_count": null,
   "metadata": {},
   "outputs": [],
   "source": []
  }
 ],
 "metadata": {
  "kernelspec": {
   "display_name": "Python 3",
   "language": "python",
   "name": "python3"
  },
  "language_info": {
   "codemirror_mode": {
    "name": "ipython",
    "version": 3
   },
   "file_extension": ".py",
   "mimetype": "text/x-python",
   "name": "python",
   "nbconvert_exporter": "python",
   "pygments_lexer": "ipython3",
   "version": "3.6.9"
  }
 },
 "nbformat": 4,
 "nbformat_minor": 2
}
